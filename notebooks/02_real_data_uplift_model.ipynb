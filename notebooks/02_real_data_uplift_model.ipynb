{
 "cells": [
  {
   "cell_type": "code",
   "execution_count": 1,
   "id": "bba05a30",
   "metadata": {},
   "outputs": [
    {
     "name": "stderr",
     "output_type": "stream",
     "text": [
      "IProgress not found. Please update jupyter and ipywidgets. See https://ipywidgets.readthedocs.io/en/stable/user_install.html\n"
     ]
    },
    {
     "ename": "NameError",
     "evalue": "name 's_learner' is not defined",
     "output_type": "error",
     "traceback": [
      "\u001b[0;31m---------------------------------------------------------------------------\u001b[0m",
      "\u001b[0;31mNameError\u001b[0m                                 Traceback (most recent call last)",
      "Cell \u001b[0;32mIn[1], line 6\u001b[0m\n\u001b[1;32m      3\u001b[0m \u001b[38;5;28;01mimport\u001b[39;00m \u001b[38;5;21;01mshap\u001b[39;00m\n\u001b[1;32m      5\u001b[0m \u001b[38;5;66;03m# 1. Extract the model inside the S-Learner\u001b[39;00m\n\u001b[0;32m----> 6\u001b[0m model_inside_s \u001b[38;5;241m=\u001b[39m \u001b[43ms_learner\u001b[49m\u001b[38;5;241m.\u001b[39mmodel()\n\u001b[1;32m      8\u001b[0m \u001b[38;5;66;03m# 2. Create SHAP Explainer\u001b[39;00m\n\u001b[1;32m      9\u001b[0m explainer \u001b[38;5;241m=\u001b[39m shap\u001b[38;5;241m.\u001b[39mExplainer(model_inside_s\u001b[38;5;241m.\u001b[39mpredict, X_test)\n",
      "\u001b[0;31mNameError\u001b[0m: name 's_learner' is not defined"
     ]
    }
   ],
   "source": [
    "# ---- SHAP EXPLANATION ----\n",
    "\n",
    "import shap\n",
    "\n",
    "# 1. Extract the model inside the S-Learner\n",
    "model_inside_s = s_learner.model()\n",
    "\n",
    "# 2. Create SHAP Explainer\n",
    "explainer = shap.Explainer(model_inside_s.predict, X_test)\n",
    "\n",
    "# 3. Calculate SHAP values\n",
    "shap_values = explainer(X_test)\n",
    "\n",
    "# 4. Plot Summary Plot\n",
    "shap.summary_plot(shap_values, X_test, plot_type=\"bar\")\n"
   ]
  }
 ],
 "metadata": {
  "kernelspec": {
   "display_name": "3.10.14",
   "language": "python",
   "name": "python3"
  },
  "language_info": {
   "codemirror_mode": {
    "name": "ipython",
    "version": 3
   },
   "file_extension": ".py",
   "mimetype": "text/x-python",
   "name": "python",
   "nbconvert_exporter": "python",
   "pygments_lexer": "ipython3",
   "version": "3.10.14"
  }
 },
 "nbformat": 4,
 "nbformat_minor": 5
}
